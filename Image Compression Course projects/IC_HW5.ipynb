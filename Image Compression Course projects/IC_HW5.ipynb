{
 "cells": [
  {
   "cell_type": "code",
   "execution_count": 4,
   "id": "tribal-olive",
   "metadata": {},
   "outputs": [],
   "source": [
    "import numpy as np\n",
    "import scipy\n",
    "from scipy.io import loadmat"
   ]
  },
  {
   "cell_type": "code",
   "execution_count": 31,
   "id": "polyphonic-server",
   "metadata": {},
   "outputs": [],
   "source": [
    "# A function for Calculating Entropy given an n-dim array or an image\n",
    "\n",
    "def ent_cal (image):\n",
    "    \n",
    "    unique, counts = np.unique(image, return_counts=True)  \n",
    "    probabilities = np.zeros(unique.shape[0])\n",
    "    \n",
    "    for i in range(unique.shape[0]):\n",
    "        probabilities[i] = counts[i] / np.sum(counts)\n",
    "    \n",
    "    entropy = 0\n",
    "    \n",
    "    for i in range(unique.shape[0]):\n",
    "        entropy = entropy + (-1 * probabilities[i] * np.log2(probabilities[i]))\n",
    "        \n",
    "    return entropy"
   ]
  },
  {
   "cell_type": "code",
   "execution_count": null,
   "id": "ambient-heather",
   "metadata": {},
   "outputs": [],
   "source": [
    "# Cameraman"
   ]
  },
  {
   "cell_type": "code",
   "execution_count": 58,
   "id": "asian-vertical",
   "metadata": {},
   "outputs": [
    {
     "name": "stdout",
     "output_type": "stream",
     "text": [
      "['<0,0,C(\\x9c)>' '<1,1,C(\\x9e)>' '<0,0,C(\\xa0)>' ... '<58,1,C(o)>'\n",
      " '<1,1,C(o)>' '<0,0,C($)>']\n"
     ]
    },
    {
     "data": {
      "text/plain": [
       "12.03150159744403"
      ]
     },
     "execution_count": 58,
     "metadata": {},
     "output_type": "execute_result"
    }
   ],
   "source": [
    "# this code will take a while\n",
    "\n",
    "LZ77_table = loadmat('Z77table')\n",
    "data = LZ77_table['tableSevenySeven']\n",
    "\n",
    "code_words_cam77 = []\n",
    "\n",
    "for i in range(data.shape[1]):\n",
    "    code_words_cam77 = np.append(code_words_cam77, data[0][i])\n",
    "    \n",
    "print(code_words_cam77)\n",
    "\n",
    "# calculating entropy for cameraman compressed with LZ77\n",
    "ent_cal(code_words_cam77)"
   ]
  },
  {
   "cell_type": "code",
   "execution_count": 67,
   "id": "southeast-subject",
   "metadata": {},
   "outputs": [
    {
     "name": "stdout",
     "output_type": "stream",
     "text": [
      "5.962373127068926\n",
      "15.0\n"
     ]
    },
    {
     "data": {
      "text/plain": [
       "7.433452606201172"
      ]
     },
     "execution_count": 67,
     "metadata": {},
     "output_type": "execute_result"
    }
   ],
   "source": [
    "# calculating the avg symbols per codeword\n",
    "avg = 512*512 / code_words_cam77.shape[0]\n",
    "\n",
    "# calculating the entropy \n",
    "print(ent_cal(code_words_cam77) / avg) \n",
    "\n",
    "# calculating compression ratio\n",
    "\n",
    "unique, counts = np.unique(code_words_cam77, return_counts=True)\n",
    "bits_needed_cam77 = np.ceil(np.log2(len(unique)))\n",
    "\n",
    "print(bits_needed_cam77)\n",
    "bits_needed_cam77 / avg"
   ]
  },
  {
   "cell_type": "code",
   "execution_count": null,
   "id": "acting-replication",
   "metadata": {},
   "outputs": [],
   "source": []
  },
  {
   "cell_type": "code",
   "execution_count": null,
   "id": "aware-johnston",
   "metadata": {},
   "outputs": [],
   "source": []
  },
  {
   "cell_type": "code",
   "execution_count": null,
   "id": "lovely-providence",
   "metadata": {},
   "outputs": [],
   "source": []
  },
  {
   "cell_type": "code",
   "execution_count": 59,
   "id": "exciting-cooking",
   "metadata": {},
   "outputs": [
    {
     "name": "stdout",
     "output_type": "stream",
     "text": [
      "[\"(0, '1')\" \"(0, '5')\" \"(0, '6')\" ... \"(46512, '9')\" \"(28928, '0')\"\n",
      " \"(36884, '1')\"]\n"
     ]
    },
    {
     "data": {
      "text/plain": [
       "16.382792871450086"
      ]
     },
     "execution_count": 59,
     "metadata": {},
     "output_type": "execute_result"
    }
   ],
   "source": [
    "# this code will take a while\n",
    "\n",
    "LZ78_table = loadmat('Z78table')\n",
    "data = LZ78_table['tableSevenyEight']\n",
    "\n",
    "code_words_cam78 = []\n",
    "\n",
    "for i in range(data.shape[1]):\n",
    "    code_words_cam78 = np.append(code_words_cam78, data[0][i])\n",
    "    \n",
    "print(code_words_cam78)\n",
    "\n",
    "# calculating entropy for cameraman compressed with LZ78\n",
    "ent_cal(code_words_cam78)"
   ]
  },
  {
   "cell_type": "code",
   "execution_count": 68,
   "id": "handmade-concentrate",
   "metadata": {},
   "outputs": [
    {
     "name": "stdout",
     "output_type": "stream",
     "text": [
      "5.340231517278328\n",
      "17.0\n"
     ]
    },
    {
     "data": {
      "text/plain": [
       "4.889488220214844"
      ]
     },
     "execution_count": 68,
     "metadata": {},
     "output_type": "execute_result"
    }
   ],
   "source": [
    "# calculating the avg symbols per codeword\n",
    "avg = 512*512 / code_words_cam78.shape[0]\n",
    "\n",
    "# calculating the entropy \n",
    "print(ent_cal(code_words_cam78) / avg) \n",
    "\n",
    "# calculating compression ratio\n",
    "\n",
    "unique, counts = np.unique(code_words_cam78, return_counts=True)\n",
    "bits_needed_cam78 = np.ceil(np.log2(len(unique)))\n",
    "\n",
    "print(bits_needed_cam78)\n",
    "bits_needed_cam77 / avg"
   ]
  },
  {
   "cell_type": "code",
   "execution_count": 64,
   "id": "limiting-bidder",
   "metadata": {},
   "outputs": [],
   "source": []
  },
  {
   "cell_type": "code",
   "execution_count": null,
   "id": "timely-movie",
   "metadata": {},
   "outputs": [],
   "source": []
  },
  {
   "cell_type": "code",
   "execution_count": null,
   "id": "infectious-school",
   "metadata": {},
   "outputs": [],
   "source": []
  },
  {
   "cell_type": "code",
   "execution_count": null,
   "id": "alert-newman",
   "metadata": {},
   "outputs": [],
   "source": []
  },
  {
   "cell_type": "code",
   "execution_count": null,
   "id": "abandoned-tomato",
   "metadata": {},
   "outputs": [],
   "source": [
    "# Lena"
   ]
  },
  {
   "cell_type": "code",
   "execution_count": 62,
   "id": "neural-infrastructure",
   "metadata": {},
   "outputs": [
    {
     "name": "stdout",
     "output_type": "stream",
     "text": [
      "['<0,0,C(¢)>' '<1,1,C(¢)>' '<2,2,C(¤)>' ... '<58,1,C(b)>' '<0,0,C(l)>'\n",
      " '<1,1,C($)>']\n"
     ]
    },
    {
     "data": {
      "text/plain": [
       "11.794821386893823"
      ]
     },
     "execution_count": 62,
     "metadata": {},
     "output_type": "execute_result"
    }
   ],
   "source": [
    "# this code will take a while\n",
    "\n",
    "LZ77_table = loadmat('Z77table_lena')\n",
    "data = LZ77_table['tableSevenySeven']\n",
    "\n",
    "code_words_lena77 = []\n",
    "\n",
    "for i in range(data.shape[1]):\n",
    "    code_words_lena77 = np.append(code_words_lena77, data[0][i])\n",
    "    \n",
    "print(code_words_lena77)\n",
    "\n",
    "# calculating entropy for Lena compressed with LZ77\n",
    "ent_cal(code_words_lena77)"
   ]
  },
  {
   "cell_type": "code",
   "execution_count": 72,
   "id": "lasting-formula",
   "metadata": {},
   "outputs": [
    {
     "name": "stdout",
     "output_type": "stream",
     "text": [
      "6.8689140785551395\n",
      "15.0\n"
     ]
    },
    {
     "data": {
      "text/plain": [
       "8.735504150390625"
      ]
     },
     "execution_count": 72,
     "metadata": {},
     "output_type": "execute_result"
    }
   ],
   "source": [
    "# calculating the avg symbols per codeword\n",
    "avg = 512*512 / code_words_lena77.shape[0]\n",
    "\n",
    "# calculating the entropy \n",
    "print(ent_cal(code_words_lena77) / avg) \n",
    "\n",
    "\n",
    "unique, counts = np.unique(code_words_lena77, return_counts=True)\n",
    "bits_needed_lena77 = np.ceil(np.log2(len(unique)))\n",
    "\n",
    "print(bits_needed_lena77)\n",
    "bits_needed_lena77 / avg"
   ]
  },
  {
   "cell_type": "code",
   "execution_count": null,
   "id": "parental-intelligence",
   "metadata": {},
   "outputs": [],
   "source": []
  },
  {
   "cell_type": "code",
   "execution_count": null,
   "id": "neural-adelaide",
   "metadata": {},
   "outputs": [],
   "source": []
  },
  {
   "cell_type": "code",
   "execution_count": null,
   "id": "undefined-cruise",
   "metadata": {},
   "outputs": [],
   "source": []
  },
  {
   "cell_type": "code",
   "execution_count": null,
   "id": "continuing-stand",
   "metadata": {},
   "outputs": [],
   "source": []
  },
  {
   "cell_type": "code",
   "execution_count": 71,
   "id": "fleet-microwave",
   "metadata": {},
   "outputs": [
    {
     "name": "stdout",
     "output_type": "stream",
     "text": [
      "[\"(0, '1')\" \"(0, '6')\" \"(0, '2')\" ... \"(95933, '9')\" \"(1621, '8')\"\n",
      " '(508, EOF)']\n"
     ]
    },
    {
     "data": {
      "text/plain": [
       "16.598532349134096"
      ]
     },
     "execution_count": 71,
     "metadata": {},
     "output_type": "execute_result"
    }
   ],
   "source": [
    "# this code will take a while\n",
    "\n",
    "LZ78_table = loadmat('Z78table_lena')\n",
    "data = LZ78_table['tableSevenyEight']\n",
    "\n",
    "code_words_lena78 = []\n",
    "\n",
    "for i in range(data.shape[1]):\n",
    "    code_words_lena78 = np.append(code_words_lena78, data[0][i])\n",
    "    \n",
    "print(code_words_lena78)\n",
    "\n",
    "# calculating entropy for cameraman compressed with LZ78\n",
    "ent_cal(code_words_lena78)"
   ]
  },
  {
   "cell_type": "code",
   "execution_count": 73,
   "id": "approximate-exhaust",
   "metadata": {},
   "outputs": [
    {
     "name": "stdout",
     "output_type": "stream",
     "text": [
      "6.2832724021973565\n",
      "17.0\n"
     ]
    },
    {
     "data": {
      "text/plain": [
       "6.435245513916016"
      ]
     },
     "execution_count": 73,
     "metadata": {},
     "output_type": "execute_result"
    }
   ],
   "source": [
    "# calculating the avg symbols per codeword\n",
    "avg = 512*512 / code_words_lena78.shape[0]\n",
    "\n",
    "# calculating the entropy \n",
    "print(ent_cal(code_words_lena78) / avg) \n",
    "\n",
    "# calculating compression ratio\n",
    "\n",
    "unique, counts = np.unique(code_words_lena78, return_counts=True)\n",
    "bits_needed_lena78 = np.ceil(np.log2(len(unique)))\n",
    "\n",
    "print(bits_needed_lena78)\n",
    "bits_needed_lena78 / avg"
   ]
  },
  {
   "cell_type": "code",
   "execution_count": null,
   "id": "organizational-vacuum",
   "metadata": {},
   "outputs": [],
   "source": []
  },
  {
   "cell_type": "code",
   "execution_count": null,
   "id": "pursuant-efficiency",
   "metadata": {},
   "outputs": [],
   "source": []
  }
 ],
 "metadata": {
  "kernelspec": {
   "display_name": "cvclass",
   "language": "python",
   "name": "cvclass"
  },
  "language_info": {
   "codemirror_mode": {
    "name": "ipython",
    "version": 3
   },
   "file_extension": ".py",
   "mimetype": "text/x-python",
   "name": "python",
   "nbconvert_exporter": "python",
   "pygments_lexer": "ipython3",
   "version": "3.8.5"
  }
 },
 "nbformat": 4,
 "nbformat_minor": 5
}
